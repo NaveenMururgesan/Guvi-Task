{
  "nbformat": 4,
  "nbformat_minor": 0,
  "metadata": {
    "colab": {
      "provenance": [],
      "authorship_tag": "ABX9TyOhXeCMz6qJ7pk5xtAixXkt",
      "include_colab_link": true
    },
    "kernelspec": {
      "name": "python3",
      "display_name": "Python 3"
    },
    "language_info": {
      "name": "python"
    }
  },
  "cells": [
    {
      "cell_type": "markdown",
      "metadata": {
        "id": "view-in-github",
        "colab_type": "text"
      },
      "source": [
        "<a href=\"https://colab.research.google.com/github/NaveenMururgesan/Guvi-Task/blob/main/Email_validation.ipynb\" target=\"_parent\"><img src=\"https://colab.research.google.com/assets/colab-badge.svg\" alt=\"Open In Colab\"/></a>"
      ]
    },
    {
      "cell_type": "code",
      "execution_count": 4,
      "metadata": {
        "id": "SwowuJYi0S7i",
        "colab": {
          "base_uri": "https://localhost:8080/"
        },
        "outputId": "c9ae7930-8562-4662-e668-3b9aee17812b"
      },
      "outputs": [
        {
          "output_type": "stream",
          "name": "stdout",
          "text": [
            "Invalid password!\n",
            "Enter your email: nawinkrish6@gmail.com\n",
            "Enter your password: nawin@0987\n",
            "Login failed. Invalid username or password.\n"
          ]
        }
      ],
      "source": [
        "import re\n",
        "\n",
        "def validate_email(email):\n",
        "    if re.search(r'@.+\\.', email):\n",
        "        if not re.search(r'@\\.', email):\n",
        "            if not re.search(r'^[^A-Za-z0-9]', email):\n",
        "                return True\n",
        "    return False\n",
        "validate_email('nawinkrish6@gmail.com')\n",
        "\n",
        "def validate_password(password):\n",
        "    if len(password) >= 5 and len(password) <= 16:\n",
        "       if re.search(r'[^A-Za-z0-9]', password) and re.search(r'[0-9]', password) and re.search(r'[A-Z]', password) and re.search(r'[a-z]', password):\n",
        "            return True\n",
        "    return False\n",
        "validate_password('nawin@0987')\n",
        "\n",
        "def register_user(email, password):\n",
        "    if validate_email(email):\n",
        "        if validate_password(password):\n",
        "            with open('usersdetails2.txt', 'x'):\n",
        "                f=open('userdetails2.txt','a')\n",
        "                f.write(email + ',' + password + '\\n')\n",
        "                print('Registration successful!')\n",
        "        else:\n",
        "            print('Invalid password!')\n",
        "    else:\n",
        "        print('Invalid email!')\n",
        "\n",
        "register_user('nawinkrish6@gmail.com','nawin@0987')\n",
        "\n",
        "def login():\n",
        "    email = input(\"Enter your email: \")\n",
        "    password = input(\"Enter your password: \")\n",
        "    with open('userdetails2.txt', \"r\") as f:\n",
        "        for line in f:\n",
        "            line = line.strip()\n",
        "            stored_email, stored_password = line.split(\",\")\n",
        "            if email == stored_email and password == stored_password:\n",
        "                print(\"Login successful.\")\n",
        "                return\n",
        "    print(\"Login failed. Invalid username or password.\")\n",
        "login()\n",
        "\n",
        "def retrieve_password(email):\n",
        "    with open('userdetails2.txt', 'r') as f:\n",
        "        for line in f:\n",
        "            line = line.strip()\n",
        "            stored_email, stored_password = line.split(\",\")\n",
        "            if email == stored_email:\n",
        "                return stored_password\n",
        "    return None\n",
        "retrieve_password('nawinkrish6@gmail.com')"
      ]
    }
  ]
}